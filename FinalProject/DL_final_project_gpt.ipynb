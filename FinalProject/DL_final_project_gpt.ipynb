{
  "nbformat": 4,
  "nbformat_minor": 0,
  "metadata": {
    "colab": {
      "provenance": [],
      "authorship_tag": "ABX9TyN8NoG7rPCbQ2yncaiz+g55",
      "include_colab_link": true
    },
    "kernelspec": {
      "name": "python3",
      "display_name": "Python 3"
    },
    "language_info": {
      "name": "python"
    }
  },
  "cells": [
    {
      "cell_type": "markdown",
      "metadata": {
        "id": "view-in-github",
        "colab_type": "text"
      },
      "source": [
        "<a href=\"https://colab.research.google.com/github/nokdujeon83/20242R0136COSE47402/blob/main/FinalProject/DL_final_project_gpt.ipynb\" target=\"_parent\"><img src=\"https://colab.research.google.com/assets/colab-badge.svg\" alt=\"Open In Colab\"/></a>"
      ]
    },
    {
      "cell_type": "markdown",
      "source": [
        "# 0. Setup"
      ],
      "metadata": {
        "id": "vukiqL41sgZb"
      }
    },
    {
      "cell_type": "markdown",
      "source": [
        "Install OpenAI Python Package"
      ],
      "metadata": {
        "id": "Pvx7EfW-ttuP"
      }
    },
    {
      "cell_type": "code",
      "execution_count": null,
      "metadata": {
        "colab": {
          "base_uri": "https://localhost:8080/"
        },
        "id": "Z9_vUFLTq0gU",
        "outputId": "d0b1fb4b-7a7d-4a7c-c5da-fdfbf9649d21"
      },
      "outputs": [
        {
          "output_type": "stream",
          "name": "stdout",
          "text": [
            "Requirement already satisfied: openai in /usr/local/lib/python3.10/dist-packages (1.54.4)\n",
            "Requirement already satisfied: anyio<5,>=3.5.0 in /usr/local/lib/python3.10/dist-packages (from openai) (3.7.1)\n",
            "Requirement already satisfied: distro<2,>=1.7.0 in /usr/local/lib/python3.10/dist-packages (from openai) (1.9.0)\n",
            "Requirement already satisfied: httpx<1,>=0.23.0 in /usr/local/lib/python3.10/dist-packages (from openai) (0.27.2)\n",
            "Requirement already satisfied: jiter<1,>=0.4.0 in /usr/local/lib/python3.10/dist-packages (from openai) (0.7.1)\n",
            "Requirement already satisfied: pydantic<3,>=1.9.0 in /usr/local/lib/python3.10/dist-packages (from openai) (2.9.2)\n",
            "Requirement already satisfied: sniffio in /usr/local/lib/python3.10/dist-packages (from openai) (1.3.1)\n",
            "Requirement already satisfied: tqdm>4 in /usr/local/lib/python3.10/dist-packages (from openai) (4.66.6)\n",
            "Requirement already satisfied: typing-extensions<5,>=4.11 in /usr/local/lib/python3.10/dist-packages (from openai) (4.12.2)\n",
            "Requirement already satisfied: idna>=2.8 in /usr/local/lib/python3.10/dist-packages (from anyio<5,>=3.5.0->openai) (3.10)\n",
            "Requirement already satisfied: exceptiongroup in /usr/local/lib/python3.10/dist-packages (from anyio<5,>=3.5.0->openai) (1.2.2)\n",
            "Requirement already satisfied: certifi in /usr/local/lib/python3.10/dist-packages (from httpx<1,>=0.23.0->openai) (2024.8.30)\n",
            "Requirement already satisfied: httpcore==1.* in /usr/local/lib/python3.10/dist-packages (from httpx<1,>=0.23.0->openai) (1.0.7)\n",
            "Requirement already satisfied: h11<0.15,>=0.13 in /usr/local/lib/python3.10/dist-packages (from httpcore==1.*->httpx<1,>=0.23.0->openai) (0.14.0)\n",
            "Requirement already satisfied: annotated-types>=0.6.0 in /usr/local/lib/python3.10/dist-packages (from pydantic<3,>=1.9.0->openai) (0.7.0)\n",
            "Requirement already satisfied: pydantic-core==2.23.4 in /usr/local/lib/python3.10/dist-packages (from pydantic<3,>=1.9.0->openai) (2.23.4)\n"
          ]
        }
      ],
      "source": [
        "!pip install openai"
      ]
    },
    {
      "cell_type": "markdown",
      "source": [
        "Import Libraries and Set Up API Key"
      ],
      "metadata": {
        "id": "iMbI3bMytuv2"
      }
    },
    {
      "cell_type": "code",
      "source": [
        "import json\n",
        "from openai import OpenAI\n",
        "import os\n",
        "from google.colab import userdata\n",
        "from google.colab import drive\n",
        "drive.mount('/content/drive')\n",
        "\n",
        "# 파일 경로를 지정해 API 키 읽기\n",
        "with open('/content/drive/My Drive/2024_02_ML/openai_key.txt', 'r') as file:\n",
        "    api_key = file.read().strip()\n",
        "\n",
        "MODEL = \"gpt-4\"\n",
        "\n",
        "client = OpenAI(api_key=api_key)\n"
      ],
      "metadata": {
        "id": "SgauPgqctww2",
        "colab": {
          "base_uri": "https://localhost:8080/"
        },
        "outputId": "e933feeb-6b56-40d8-a96d-527623efe036"
      },
      "execution_count": null,
      "outputs": [
        {
          "output_type": "stream",
          "name": "stdout",
          "text": [
            "Mounted at /content/drive\n"
          ]
        }
      ]
    },
    {
      "cell_type": "markdown",
      "source": [
        "Example for using GPT at Colab"
      ],
      "metadata": {
        "id": "TEA1ZEV9dAon"
      }
    },
    {
      "cell_type": "code",
      "source": [
        "completion = client.chat.completions.create(\n",
        "  model=MODEL,\n",
        "  messages=[\n",
        "    {\"role\": \"system\", \"content\": \"You are a helpful assistant. Help me with my math homework!\"},\n",
        "    {\"role\": \"user\", \"content\": \"Hello! Could you solve 4+5?\"}\n",
        "  ]\n",
        ")\n",
        "\n",
        "print(\"Assistant: \" + completion.choices[0].message.content)"
      ],
      "metadata": {
        "colab": {
          "base_uri": "https://localhost:8080/"
        },
        "id": "HP1I90AbaVjb",
        "outputId": "cdc83d8d-df81-474f-c865-9654232b3b7c"
      },
      "execution_count": null,
      "outputs": [
        {
          "output_type": "stream",
          "name": "stdout",
          "text": [
            "Assistant: Of course! The solution to 4 + 5 equals 9.\n"
          ]
        }
      ]
    },
    {
      "cell_type": "markdown",
      "source": [
        "For Korean datasets"
      ],
      "metadata": {
        "id": "sN_UGYDs9DGP"
      }
    },
    {
      "cell_type": "code",
      "source": [
        "completion = client.chat.completions.create(\n",
        "  model=MODEL,\n",
        "  messages=[\n",
        "    {\"role\": \"user\", \"content\": \"한국어로 설명해주세요: What is machine learning?\"}\n",
        "  ]\n",
        ")\n",
        "\n",
        "print(\"Assistant: \" + completion.choices[0].message.content)"
      ],
      "metadata": {
        "colab": {
          "base_uri": "https://localhost:8080/"
        },
        "id": "L8Gg6AiV8YGA",
        "outputId": "30c6854f-ad55-4c07-987e-4a157e89e8a9"
      },
      "execution_count": null,
      "outputs": [
        {
          "output_type": "stream",
          "name": "stdout",
          "text": [
            "Assistant: 기계 학습은 인공 지능의 한 분야로, 컴퓨터가 명시적으로 프로그래밍되지 않은 정보나 능력을 습득하도록 하는 알고리즘 및 모델을 개발하는 연구입니다. 기계 학습은 데이터 분석 방법의 하나로, 계산 모델이 경험(데이터)을 통해 성능을 개선하거나 예측이나 결정을 만들도록 합니다. 이를 통해 컴퓨터는 데이터에서 패턴을 학습하고 향후 미지의 데이터에 대한 결과를 예측할 수 있게 됩니다.\n"
          ]
        }
      ]
    },
    {
      "cell_type": "markdown",
      "source": [
        "# 1. Preparation"
      ],
      "metadata": {
        "id": "iwuTVznwsp1x"
      }
    },
    {
      "cell_type": "code",
      "source": [],
      "metadata": {
        "id": "CqBXzKNZsvXD"
      },
      "execution_count": null,
      "outputs": []
    }
  ]
}
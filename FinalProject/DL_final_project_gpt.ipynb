{
  "nbformat": 4,
  "nbformat_minor": 0,
  "metadata": {
    "colab": {
      "provenance": [],
      "authorship_tag": "ABX9TyPcAQHjui25xcbim4acUuNW",
      "include_colab_link": true
    },
    "kernelspec": {
      "name": "python3",
      "display_name": "Python 3"
    },
    "language_info": {
      "name": "python"
    }
  },
  "cells": [
    {
      "cell_type": "markdown",
      "metadata": {
        "id": "view-in-github",
        "colab_type": "text"
      },
      "source": [
        "<a href=\"https://colab.research.google.com/github/nokdujeon83/20242R0136COSE47402/blob/main/FinalProject/DL_final_project_gpt.ipynb\" target=\"_parent\"><img src=\"https://colab.research.google.com/assets/colab-badge.svg\" alt=\"Open In Colab\"/></a>"
      ]
    },
    {
      "cell_type": "markdown",
      "source": [
        "# 0. Setup"
      ],
      "metadata": {
        "id": "vukiqL41sgZb"
      }
    },
    {
      "cell_type": "markdown",
      "source": [
        "Install OpenAI Python Package"
      ],
      "metadata": {
        "id": "Pvx7EfW-ttuP"
      }
    },
    {
      "cell_type": "code",
      "execution_count": 1,
      "metadata": {
        "colab": {
          "base_uri": "https://localhost:8080/"
        },
        "id": "Z9_vUFLTq0gU",
        "outputId": "cd23e082-7c5d-41b3-bd7f-21508d3e2802"
      },
      "outputs": [
        {
          "output_type": "stream",
          "name": "stdout",
          "text": [
            "Collecting openai==0.28.1\n",
            "  Downloading openai-0.28.1-py3-none-any.whl.metadata (11 kB)\n",
            "Requirement already satisfied: requests>=2.20 in /usr/local/lib/python3.10/dist-packages (from openai==0.28.1) (2.32.3)\n",
            "Requirement already satisfied: tqdm in /usr/local/lib/python3.10/dist-packages (from openai==0.28.1) (4.66.6)\n",
            "Requirement already satisfied: aiohttp in /usr/local/lib/python3.10/dist-packages (from openai==0.28.1) (3.11.9)\n",
            "Requirement already satisfied: charset-normalizer<4,>=2 in /usr/local/lib/python3.10/dist-packages (from requests>=2.20->openai==0.28.1) (3.4.0)\n",
            "Requirement already satisfied: idna<4,>=2.5 in /usr/local/lib/python3.10/dist-packages (from requests>=2.20->openai==0.28.1) (3.10)\n",
            "Requirement already satisfied: urllib3<3,>=1.21.1 in /usr/local/lib/python3.10/dist-packages (from requests>=2.20->openai==0.28.1) (2.2.3)\n",
            "Requirement already satisfied: certifi>=2017.4.17 in /usr/local/lib/python3.10/dist-packages (from requests>=2.20->openai==0.28.1) (2024.8.30)\n",
            "Requirement already satisfied: aiohappyeyeballs>=2.3.0 in /usr/local/lib/python3.10/dist-packages (from aiohttp->openai==0.28.1) (2.4.4)\n",
            "Requirement already satisfied: aiosignal>=1.1.2 in /usr/local/lib/python3.10/dist-packages (from aiohttp->openai==0.28.1) (1.3.1)\n",
            "Requirement already satisfied: async-timeout<6.0,>=4.0 in /usr/local/lib/python3.10/dist-packages (from aiohttp->openai==0.28.1) (4.0.3)\n",
            "Requirement already satisfied: attrs>=17.3.0 in /usr/local/lib/python3.10/dist-packages (from aiohttp->openai==0.28.1) (24.2.0)\n",
            "Requirement already satisfied: frozenlist>=1.1.1 in /usr/local/lib/python3.10/dist-packages (from aiohttp->openai==0.28.1) (1.5.0)\n",
            "Requirement already satisfied: multidict<7.0,>=4.5 in /usr/local/lib/python3.10/dist-packages (from aiohttp->openai==0.28.1) (6.1.0)\n",
            "Requirement already satisfied: propcache>=0.2.0 in /usr/local/lib/python3.10/dist-packages (from aiohttp->openai==0.28.1) (0.2.1)\n",
            "Requirement already satisfied: yarl<2.0,>=1.17.0 in /usr/local/lib/python3.10/dist-packages (from aiohttp->openai==0.28.1) (1.18.3)\n",
            "Requirement already satisfied: typing-extensions>=4.1.0 in /usr/local/lib/python3.10/dist-packages (from multidict<7.0,>=4.5->aiohttp->openai==0.28.1) (4.12.2)\n",
            "Downloading openai-0.28.1-py3-none-any.whl (76 kB)\n",
            "\u001b[2K   \u001b[90m━━━━━━━━━━━━━━━━━━━━━━━━━━━━━━━━━━━━━━━━\u001b[0m \u001b[32m77.0/77.0 kB\u001b[0m \u001b[31m2.3 MB/s\u001b[0m eta \u001b[36m0:00:00\u001b[0m\n",
            "\u001b[?25hInstalling collected packages: openai\n",
            "  Attempting uninstall: openai\n",
            "    Found existing installation: openai 1.54.5\n",
            "    Uninstalling openai-1.54.5:\n",
            "      Successfully uninstalled openai-1.54.5\n",
            "Successfully installed openai-0.28.1\n"
          ]
        }
      ],
      "source": [
        "!pip install openai==0.28.1"
      ]
    },
    {
      "cell_type": "markdown",
      "source": [
        "Install Datasets"
      ],
      "metadata": {
        "id": "yHJ8L-ue-4-3"
      }
    },
    {
      "cell_type": "code",
      "source": [
        "!pip install --upgrade pip"
      ],
      "metadata": {
        "colab": {
          "base_uri": "https://localhost:8080/"
        },
        "id": "8JPkogPv5ytP",
        "outputId": "527ae995-d18a-4405-ea73-f94a7a2bc6c5"
      },
      "execution_count": 2,
      "outputs": [
        {
          "output_type": "stream",
          "name": "stdout",
          "text": [
            "Requirement already satisfied: pip in /usr/local/lib/python3.10/dist-packages (24.1.2)\n",
            "Collecting pip\n",
            "  Downloading pip-24.3.1-py3-none-any.whl.metadata (3.7 kB)\n",
            "Downloading pip-24.3.1-py3-none-any.whl (1.8 MB)\n",
            "\u001b[2K   \u001b[90m━━━━━━━━━━━━━━━━━━━━━━━━━━━━━━━━━━━━━━━━\u001b[0m \u001b[32m1.8/1.8 MB\u001b[0m \u001b[31m15.3 MB/s\u001b[0m eta \u001b[36m0:00:00\u001b[0m\n",
            "\u001b[?25hInstalling collected packages: pip\n",
            "  Attempting uninstall: pip\n",
            "    Found existing installation: pip 24.1.2\n",
            "    Uninstalling pip-24.1.2:\n",
            "      Successfully uninstalled pip-24.1.2\n",
            "Successfully installed pip-24.3.1\n"
          ]
        }
      ]
    },
    {
      "cell_type": "code",
      "source": [
        "!pip install datasets pandas"
      ],
      "metadata": {
        "colab": {
          "base_uri": "https://localhost:8080/"
        },
        "id": "5t_1eVZr-3hS",
        "outputId": "ee10c703-63c3-46b7-fa8d-22f73c7a2370"
      },
      "execution_count": 3,
      "outputs": [
        {
          "output_type": "stream",
          "name": "stdout",
          "text": [
            "Collecting datasets\n",
            "  Downloading datasets-3.1.0-py3-none-any.whl.metadata (20 kB)\n",
            "Requirement already satisfied: pandas in /usr/local/lib/python3.10/dist-packages (2.2.2)\n",
            "Requirement already satisfied: filelock in /usr/local/lib/python3.10/dist-packages (from datasets) (3.16.1)\n",
            "Requirement already satisfied: numpy>=1.17 in /usr/local/lib/python3.10/dist-packages (from datasets) (1.26.4)\n",
            "Requirement already satisfied: pyarrow>=15.0.0 in /usr/local/lib/python3.10/dist-packages (from datasets) (17.0.0)\n",
            "Collecting dill<0.3.9,>=0.3.0 (from datasets)\n",
            "  Downloading dill-0.3.8-py3-none-any.whl.metadata (10 kB)\n",
            "Requirement already satisfied: requests>=2.32.2 in /usr/local/lib/python3.10/dist-packages (from datasets) (2.32.3)\n",
            "Requirement already satisfied: tqdm>=4.66.3 in /usr/local/lib/python3.10/dist-packages (from datasets) (4.66.6)\n",
            "Collecting xxhash (from datasets)\n",
            "  Downloading xxhash-3.5.0-cp310-cp310-manylinux_2_17_x86_64.manylinux2014_x86_64.whl.metadata (12 kB)\n",
            "Collecting multiprocess<0.70.17 (from datasets)\n",
            "  Downloading multiprocess-0.70.16-py310-none-any.whl.metadata (7.2 kB)\n",
            "Collecting fsspec<=2024.9.0,>=2023.1.0 (from fsspec[http]<=2024.9.0,>=2023.1.0->datasets)\n",
            "  Downloading fsspec-2024.9.0-py3-none-any.whl.metadata (11 kB)\n",
            "Requirement already satisfied: aiohttp in /usr/local/lib/python3.10/dist-packages (from datasets) (3.11.9)\n",
            "Requirement already satisfied: huggingface-hub>=0.23.0 in /usr/local/lib/python3.10/dist-packages (from datasets) (0.26.3)\n",
            "Requirement already satisfied: packaging in /usr/local/lib/python3.10/dist-packages (from datasets) (24.2)\n",
            "Requirement already satisfied: pyyaml>=5.1 in /usr/local/lib/python3.10/dist-packages (from datasets) (6.0.2)\n",
            "Requirement already satisfied: python-dateutil>=2.8.2 in /usr/local/lib/python3.10/dist-packages (from pandas) (2.8.2)\n",
            "Requirement already satisfied: pytz>=2020.1 in /usr/local/lib/python3.10/dist-packages (from pandas) (2024.2)\n",
            "Requirement already satisfied: tzdata>=2022.7 in /usr/local/lib/python3.10/dist-packages (from pandas) (2024.2)\n",
            "Requirement already satisfied: aiohappyeyeballs>=2.3.0 in /usr/local/lib/python3.10/dist-packages (from aiohttp->datasets) (2.4.4)\n",
            "Requirement already satisfied: aiosignal>=1.1.2 in /usr/local/lib/python3.10/dist-packages (from aiohttp->datasets) (1.3.1)\n",
            "Requirement already satisfied: async-timeout<6.0,>=4.0 in /usr/local/lib/python3.10/dist-packages (from aiohttp->datasets) (4.0.3)\n",
            "Requirement already satisfied: attrs>=17.3.0 in /usr/local/lib/python3.10/dist-packages (from aiohttp->datasets) (24.2.0)\n",
            "Requirement already satisfied: frozenlist>=1.1.1 in /usr/local/lib/python3.10/dist-packages (from aiohttp->datasets) (1.5.0)\n",
            "Requirement already satisfied: multidict<7.0,>=4.5 in /usr/local/lib/python3.10/dist-packages (from aiohttp->datasets) (6.1.0)\n",
            "Requirement already satisfied: propcache>=0.2.0 in /usr/local/lib/python3.10/dist-packages (from aiohttp->datasets) (0.2.1)\n",
            "Requirement already satisfied: yarl<2.0,>=1.17.0 in /usr/local/lib/python3.10/dist-packages (from aiohttp->datasets) (1.18.3)\n",
            "Requirement already satisfied: typing-extensions>=3.7.4.3 in /usr/local/lib/python3.10/dist-packages (from huggingface-hub>=0.23.0->datasets) (4.12.2)\n",
            "Requirement already satisfied: six>=1.5 in /usr/local/lib/python3.10/dist-packages (from python-dateutil>=2.8.2->pandas) (1.16.0)\n",
            "Requirement already satisfied: charset-normalizer<4,>=2 in /usr/local/lib/python3.10/dist-packages (from requests>=2.32.2->datasets) (3.4.0)\n",
            "Requirement already satisfied: idna<4,>=2.5 in /usr/local/lib/python3.10/dist-packages (from requests>=2.32.2->datasets) (3.10)\n",
            "Requirement already satisfied: urllib3<3,>=1.21.1 in /usr/local/lib/python3.10/dist-packages (from requests>=2.32.2->datasets) (2.2.3)\n",
            "Requirement already satisfied: certifi>=2017.4.17 in /usr/local/lib/python3.10/dist-packages (from requests>=2.32.2->datasets) (2024.8.30)\n",
            "Downloading datasets-3.1.0-py3-none-any.whl (480 kB)\n",
            "Downloading dill-0.3.8-py3-none-any.whl (116 kB)\n",
            "Downloading fsspec-2024.9.0-py3-none-any.whl (179 kB)\n",
            "Downloading multiprocess-0.70.16-py310-none-any.whl (134 kB)\n",
            "Downloading xxhash-3.5.0-cp310-cp310-manylinux_2_17_x86_64.manylinux2014_x86_64.whl (194 kB)\n",
            "Installing collected packages: xxhash, fsspec, dill, multiprocess, datasets\n",
            "  Attempting uninstall: fsspec\n",
            "    Found existing installation: fsspec 2024.10.0\n",
            "    Uninstalling fsspec-2024.10.0:\n",
            "      Successfully uninstalled fsspec-2024.10.0\n",
            "\u001b[31mERROR: pip's dependency resolver does not currently take into account all the packages that are installed. This behaviour is the source of the following dependency conflicts.\n",
            "gcsfs 2024.10.0 requires fsspec==2024.10.0, but you have fsspec 2024.9.0 which is incompatible.\u001b[0m\u001b[31m\n",
            "\u001b[0mSuccessfully installed datasets-3.1.0 dill-0.3.8 fsspec-2024.9.0 multiprocess-0.70.16 xxhash-3.5.0\n"
          ]
        }
      ]
    },
    {
      "cell_type": "markdown",
      "source": [
        "Import Libraries and Set Up API Key"
      ],
      "metadata": {
        "id": "iMbI3bMytuv2"
      }
    },
    {
      "cell_type": "code",
      "source": [
        "import openai\n",
        "import os\n",
        "from google.colab import drive\n",
        "\n",
        "# Google Drive 마운트\n",
        "drive.mount('/content/drive')\n",
        "\n",
        "# 파일에서 API 키 읽기\n",
        "with open('/content/drive/My Drive/2024_02_ML/openai_key.txt', 'r') as file:\n",
        "    api_key = file.read().strip()\n",
        "\n",
        "# OpenAI API 키 설정\n",
        "openai.api_key = api_key\n",
        "\n",
        "# 모델 설정\n",
        "MODEL = \"gpt-3.5-turbo\"\n",
        "\n",
        "# API 호출 테스트\n",
        "response = openai.ChatCompletion.create(\n",
        "    model=MODEL,\n",
        "    messages=[\n",
        "        {\"role\": \"system\", \"content\": \"You are a helpful assistant.\"},\n",
        "        {\"role\": \"user\", \"content\": \"Can you explain why this error occurs?\"}\n",
        "    ]\n",
        ")\n",
        "\n",
        "# 출력 결과 확인\n",
        "print(response['choices'][0]['message']['content'])\n"
      ],
      "metadata": {
        "id": "SgauPgqctww2",
        "colab": {
          "base_uri": "https://localhost:8080/"
        },
        "outputId": "51fbde58-6003-4593-eccf-d59a7cb75652"
      },
      "execution_count": 4,
      "outputs": [
        {
          "output_type": "stream",
          "name": "stdout",
          "text": [
            "Mounted at /content/drive\n",
            "Of course! In order to assist you better, I'll need some additional information. Could you please provide me with the specific error message you are encountering, as well as any relevant code or context?\n"
          ]
        }
      ]
    },
    {
      "cell_type": "markdown",
      "source": [
        "Example for using GPT at Colab"
      ],
      "metadata": {
        "id": "TEA1ZEV9dAon"
      }
    },
    {
      "cell_type": "markdown",
      "source": [
        "For Korean datasets"
      ],
      "metadata": {
        "id": "sN_UGYDs9DGP"
      }
    },
    {
      "cell_type": "code",
      "source": [
        "response = openai.ChatCompletion.create(\n",
        "    model=MODEL,\n",
        "    messages=[\n",
        "        {\"role\": \"system\", \"content\": \"You are a helpful assistant.\"},\n",
        "        {\"role\": \"user\", \"content\": \"한국어로 설명해주세요: Machine Learning이 무엇입니까?\"}\n",
        "    ]\n",
        ")\n",
        "\n",
        "# 출력 결과 확인\n",
        "print(response['choices'][0]['message']['content'])"
      ],
      "metadata": {
        "colab": {
          "base_uri": "https://localhost:8080/"
        },
        "id": "L8Gg6AiV8YGA",
        "outputId": "bed9af52-bcb0-4bb9-886f-6cca990407d9"
      },
      "execution_count": 6,
      "outputs": [
        {
          "output_type": "stream",
          "name": "stdout",
          "text": [
            "Machine Learning은 컴퓨터가 데이터에서 패턴을 학습하고 예측을 만들어내는 인공지능의 하위 분야입니다. 컴퓨터가 프로그래밍 없이도 데이터로부터 학습할 수 있도록 알고리즘과 모델을 사용하여 작동합니다. 이러한 기술은 주로 패턴 인식, 예측 분석, 데이터 처리 등 다양한 분야에 활용됩니다.\n"
          ]
        }
      ]
    },
    {
      "cell_type": "markdown",
      "source": [
        "# 1. Preparation"
      ],
      "metadata": {
        "id": "iwuTVznwsp1x"
      }
    },
    {
      "cell_type": "markdown",
      "source": [
        "PubMedQA Dataset"
      ],
      "metadata": {
        "id": "FwT8xywbBHVv"
      }
    },
    {
      "cell_type": "code",
      "source": [
        "from datasets import load_dataset\n",
        "\n",
        "# PubMedQA 데이터셋 로드\n",
        "pubmedqa = load_dataset(\"pubmed_qa\", \"pqa_labeled\")\n",
        "\n",
        "# Train 데이터만 존재함\n",
        "print(\"Available splits:\", pubmedqa.keys())\n",
        "\n",
        "# Train 데이터를 Validation과 Test로 나누기\n",
        "dataset = pubmedqa[\"train\"].train_test_split(test_size=0.2, seed=42)  # 80% Train, 20% Test\n",
        "train_validation = dataset[\"train\"].train_test_split(test_size=0.25, seed=42)  # 75% Train, 25% Validation\n",
        "\n",
        "# 나눈 데이터 확인\n",
        "train_data = train_validation[\"train\"]  # 약 60% (전체의 75% of 80%)\n",
        "validation_data = train_validation[\"test\"]  # 약 20% (전체의 25% of 80%)\n",
        "test_data = dataset[\"test\"]  # 약 20% (전체의 20%)\n",
        "\n",
        "print(\"Train size:\", len(train_data))\n",
        "print(\"Validation size:\", len(validation_data))\n",
        "print(\"Test size:\", len(test_data))"
      ],
      "metadata": {
        "id": "CqBXzKNZsvXD",
        "colab": {
          "base_uri": "https://localhost:8080/"
        },
        "outputId": "268ee484-1bf5-4bff-ab2f-536a3766cfe6"
      },
      "execution_count": 13,
      "outputs": [
        {
          "output_type": "stream",
          "name": "stdout",
          "text": [
            "Available splits: dict_keys(['train'])\n",
            "Train size: 600\n",
            "Validation size: 200\n",
            "Test size: 200\n"
          ]
        }
      ]
    },
    {
      "cell_type": "code",
      "source": [
        "# 데이터 형태 확인\n",
        "print(train_data[0])"
      ],
      "metadata": {
        "colab": {
          "base_uri": "https://localhost:8080/"
        },
        "id": "MwWCyAucAxuS",
        "outputId": "7764e8e1-8551-47b5-8a1c-d394c2714ca9"
      },
      "execution_count": 14,
      "outputs": [
        {
          "output_type": "stream",
          "name": "stdout",
          "text": [
            "{'pubid': 25277731, 'question': 'Sternal fracture in growing children : A rare and often overlooked fracture?', 'context': {'contexts': ['Sternal fractures in childhood are rare. The aim of the study was to investigate the accident mechanism, the detection of radiological and sonographical criteria and consideration of associated injuries.', 'In the period from January 2010 to December 2012 all inpatients and outpatients with sternal fractures were recorded according to the documentation.', 'A total of 4 children aged 5-14\\xa0years with a sternal fracture were treated in 2\\xa0years, 2\\xa0children were hospitalized for pain management and 2 remained in outpatient care.'], 'labels': ['BACKGROUND', 'METHOD', 'RESULTS'], 'meshes': ['Adolescent', 'Chest Pain', 'Child', 'Child, Preschool', 'Diagnosis, Differential', 'Fractures, Bone', 'Humans', 'Male', 'Rare Diseases', 'Sternum'], 'reasoning_required_pred': ['m', 'a', 'y', 'b', 'e'], 'reasoning_free_pred': ['m', 'a', 'y', 'b', 'e']}, 'long_answer': 'Isolated sternal fractures in childhood are often due to typical age-related traumatic incidents. Ultrasonography is a useful diagnostic tool for fracture detection and radiography is the method of choice for visualization of the extent of the dislocation.', 'final_decision': 'maybe'}\n"
          ]
        }
      ]
    },
    {
      "cell_type": "markdown",
      "source": [
        "LexGlue Datasset"
      ],
      "metadata": {
        "id": "6jeXHB0DBLc7"
      }
    },
    {
      "cell_type": "code",
      "source": [
        "# LexGLUE 데이터셋 로드\n",
        "lexglue = load_dataset(\"lex_glue\", \"ecthr_a\")\n",
        "\n",
        "# 데이터 확인\n",
        "print(lexglue[\"train\"].features)\n",
        "print(lexglue[\"train\"][0])\n",
        "\n",
        "# 데이터프레임으로 변환\n",
        "lexglue_train = lexglue[\"train\"].to_pandas()\n",
        "lexglue_validation = lexglue[\"validation\"].to_pandas()\n",
        "lexglue_test = lexglue[\"test\"].to_pandas()\n",
        "\n",
        "# 필요한 열만 선택 (예: 텍스트, 라벨)\n",
        "lexglue_train = lexglue_train[[\"text\", \"labels\"]]\n",
        "print(lexglue_train.head())\n"
      ],
      "metadata": {
        "id": "Bm4oSQI--yB2",
        "colab": {
          "base_uri": "https://localhost:8080/"
        },
        "outputId": "8cd4a9a0-b6e7-471c-940d-945abd16c2c8"
      },
      "execution_count": 17,
      "outputs": [
        {
          "output_type": "stream",
          "name": "stdout",
          "text": [
            "{'text': Sequence(feature=Value(dtype='string', id=None), length=-1, id=None), 'labels': Sequence(feature=ClassLabel(names=['2', '3', '5', '6', '8', '9', '10', '11', '14', 'P1-1'], id=None), length=-1, id=None)}\n",
            "{'text': ['11.  At the beginning of the events relevant to the application, K. had a daughter, P., and a son, M., born in 1986 and 1988 respectively. P.’s father is X and M.’s father is V. From March to May 1989 K. was voluntarily hospitalised for about three months, having been diagnosed as suffering from schizophrenia. From August to November 1989 and from December 1989 to March 1990, she was again hospitalised for periods of about three months on account of this illness. In 1991 she was hospitalised for less than a week, diagnosed as suffering from an atypical and undefinable psychosis. It appears that social welfare and health authorities have been in contact with the family since 1989.', '12.  The applicants initially cohabited from the summer of 1991 to July 1993. In 1991 both P. and M. were living with them. From 1991 to 1993 K. and X were involved in a custody and access dispute concerning P. In May 1992 a residence order was made transferring custody of P. to X.', '13.  K. was again hospitalised from 22 April to 7 May 1992, from 13 May to 10 June 1992, and from 11 to 17 January 1993, on account of psychoses. She was in compulsory care between 15 May and 10 June 1992. According to a medical report dated 15 May 1992, K. was paranoid and psychotic.', '14.  On 19 March 1993, according to the social welfare authorities’ records, a discussion took place between a social worker and K.’s mother. K.’s mother said that her daughter’s health condition was really bad and that K. had destroyed a childhood picture of hers, a wedding photo of the mother, broken a glass and “pierced the eyes” of all appearing in the photos. K.’s mother had said that she was tired of the situation, as she did not get any support from the mental health authorities. She added that she was worried and afraid that “again something must happen before K. is admitted to care”.\\nOn 24 March 1993 K. was placed under observation with a view to determining whether she should be placed in compulsory psychiatric care, having initially been diagnosed as suffering from psychosis. The conditions for compulsory care were not considered to be met but she remained in voluntary care until 5 May 1993.', '15.  Allegedly, X did not allow K., P. and M. to meet. On 11 May 1993, when K. was again pregnant, her access to P. was further limited by an order of the District Court of R. Basing itself on a doctor’s opinion, the court held that the child’s mental development would be endangered if the meetings between P. and K. continued without supervision as had been ordered in 1992.', '16.  According to the records of the social welfare authorities, M. showed signs of behavioural problems. On 30 March 1992 a psychologist reported how M. had played with two dolls saying – in very vulgar terms – that they were performing sexual acts. On 17 February 1993 K. was said to have broken a mirror in the presence of M. who had kept repeating: “mummy broke the mirror ...”\\nNotes of the social authorities of 24 and 30 March 1993 among others state that games which M. played and pictures he drew were of a destructive nature. According to the notes taken on 30 March, he had lately, while the children were singing together at the day-care nursery, shown immense hatred, threatening “to kill everybody”. The occasions when K. fetched him were described as “unpleasant scenes”, M. shouting and hitting his mother who did not react. It was noted, however, that he no longer played doll games with sexual connotations.', '17.  According to the records of the social welfare authorities, a discussion between K., her mother, T. and a number of social and mental-health care officials took place on 31 March 1993, during which it was mentioned that the authorities might have to intervene in M.’s upbringing, from the child-protection point of view, in a more drastic way than had been the case so far. It appeared that in connection with K.’s recent hospitalisation T. had “forcibly” taken her from a restaurant, which had made K. furious, with the consequence that she had thrown things around; for example, the microwave oven had ended up on the floor. T. had said that K. was unable to control herself.', '18.  On the following day the child welfare support group, consisting of various social and health authorities, agreed that the aim should be to place M. in a children’s home for three months as an assistance measure of open care under section 14 of the 1983 Child Welfare Act (lastensuojelulaki, barnskyddslag 683/1983 – “the 1983 Act”), during which period psychological examinations of the child would be carried out.', '19.  On 3 May 1993 a social welfare official decided on behalf of the Social Welfare Board (perusturvalautakunta, grundtrygghetsnämnden) of S. to place M. in a children’s home for a period of three months. This was to be regarded as a short-term support measure pursuant to the 1983 Act. The applicants had been consulted, together with K.’s mother and sister, on 8 April 1993, in order to find an open-care measure which would be practicable. According to the records of that meeting, no such practical measure had been proposed by any of the participants. The applicants had then been heard again on 21 April 1993 and had not objected to the placing of M. in a children’s home.', '20.  In an opinion of 12 May 1993, requested by the Social Welfare Board, doctors M.L. and K.R. considered that K. was not at that time able to care for M., but that her mental state would not necessarily permanently prevent her from caring for him. Doctors M.L. and K.R. worked at the hospital of H., where K. had been cared for since 1991 during the periods indicated above.', '21.  On 7 June 1993 it was reported by the social welfare authorities that, when K. and T. had come to the children’s home where M. was staying, the boy had undergone a total change in his behaviour, characterised by anger, hatred, swearing, etc. T. had said that he was really tired of the situation and that in his view K. was in need of hospitalisation. When a visit to the health centre had been suggested to her, she had become very angry.\\nAccording to a statement of 22 June 1993 by the children’s home, K. and T. had come to the home on 17 June 1993. While T. had been playing with M., other children had come to tell the staff that K. had asked a 3-year-old girl what her name was. As the girl did not reply, K. had raised her voice and shaken the girl, not letting her go until an older girl had given the child’s name. The other children had been frightened by K.’s behaviour.', '22.  On 11 June 1993 the social welfare official who had decided on 3 May 1993 to place M. in a children’s home informed the University Hospital of T. and the local hospital of S. in writing that she was very worried about the health of K. and the baby she was carrying. She requested the hospitals to contact her as soon as K. arrived at the hospital and, more particularly, at the time of the baby’s delivery. She also expressed the wish that health-care professionals should pay special attention to the relationship between the mother and the new-born baby from the very beginning.', '23.  On 18 June 1993 K. was taken to a district hospital, where she gave birth to J. on the same day. According to the hospital records, the mother stayed calm during the delivery. After the delivery a written decision concerning an emergency care order was served on the hospital. The child was taken to the children’s ward. The mother’s behaviour in the ward was later found to be somewhat restless but not completely disorderly. The hospital records indicate that she understood the situation and wanted to leave hospital the following day. Medication to prevent the secretion of milk was prescribed. It seems that K. left the hospital on 19 June 1993, that is, the following morning, without any post-natal examination. She went to her mother’s home, where she started pushing an empty pram around the place.', '24.  J. was immediately placed in emergency care, pursuant to section 18 of the 1983 Act. After the birth of their child, K. and T. were informed of this decision by two social workers at the hospital of H. The Social Director, who had made the decision on behalf of the Social Welfare Board, noted that K.’s mental state had been unstable during the last stages of her pregnancy. He considered that the baby’s health would be endangered since K. had found out about the plans to place the baby in public care. Lastly, he considered that the baby’s father, T., could not guarantee its development and safety. In addition the Social Director referred to the family’s long-standing difficulties, namely, K.’s serious illness and occasionally uncontrolled emotional reactions which could be traumatic for the children, T.’s inability to care for both J. and K., K.’s reluctance to accept guidance, the impossibility of putting the whole responsibility for J.’s development on T., and the impossibility of providing open-care support measures to the necessary extent. The applicants were not heard prior to the decision. On 24 June 1993 the applicants were notified in writing of the decision to take the new-born baby into public care. The notification was also faxed to K.', '25.  On 21 June 1993 the Social Director also placed M. in emergency care, citing principally the same reasons as in his decision of 18 June 1993 concerning J.', '26.  The applicants did not appeal against the emergency care orders.', '27.  On 21 June 1993 the Social Welfare Board took note of the emergency care orders and prohibited all unsupervised access between K. on the one hand, and J. and M. on the other. The number of supervised visits, however, was not restricted. The Board decided to continue preparations for taking M. and J. into care.', '28.  A meeting was held by social workers at the family centre on 21 June 1993, before the arrival of the baby from the hospital and in the absence of the applicants. It is mentioned in the report that there was a plan to prohibit the mother’s visits for a month on the ground that her reactions could not be predicted as she had, for example, broken things at home. After this initial period she would be allowed to visit the baby without restriction, but accompanied by her personal nurse. However, this plan was not implemented. The following entry appears in the register for 24 June: “The mother may come with her personal nurse if she wants. Other visitors not allowed for the time being.”', '29.  K. was asked to come with T. to the social welfare office on 22 June 1993 at 11.30 a.m. in order to be informed of the decision of 21 June 1993 by the Social Director concerning M. On 24 June 1993 K. and V. (M.’s biological father) were notified in writing of the decision of 21 June 1993. The notification was also faxed to K.', '30.  On 22 June 1993 K. was hospitalised voluntarily at the hospital of H. on account of psychosis, having obtained a referral from a doctor at a health care centre. She was treated there until 30 June 1993.', '31.  On 23 June 1993 J. was placed in the family centre. T. visited her the same day.', '32.  At the beginning of July 1993 T. left the applicants’ home, having been told by the social welfare officials that he had to break off his relationship with K. “if he wanted to keep” J. The applicants nevertheless continued their relationship.', '33.  On 15 July 1993 the Social Welfare Board gave its decisions taking J. and M. into “normal” public care, giving reasons similar to those mentioned in the emergency care orders (see paragraph 24 above), and prolonged the access restriction until 15 September 1993. K. was allowed to see the children only in the company of her personal nurse. The Board essentially considered that K.’s state of health remained unstable; that she was subject to aggressive and uncontrolled emotional moods; and that public care proceedings were a severe mental ordeal for a patient. As regards J., the Board therefore believed that her personal security could be jeopardised if access were to take place without supervision. As regards M., the Board feared that K.’s visits to the children’s home “could no longer be supervised by its staff, which would not be in his interest”. Before the decisions of 15 July 1993 the applicants had been heard and had expressed their objection to the care decisions envisaged.', '34.  On 15 July 1993 K. visited both her children, accompanied by her personal nurse. The register indicates that it was “a difficult situation”.', '35.  On 19 July 1993 T. moved to the family unit of the family centre with J.', '36.  On 20 July 1993 K. was again hospitalised in voluntary care at the open ward of the hospital of H., suffering from psychosis. She left hospital the following day, however. On 26 July 1993 she was placed under observation with a view to determining whether she should be placed in compulsory psychiatric care. On 30 July 1993 she was committed to compulsory psychiatric care. According to the file, her relatives had earlier been worried about her and had contacted the hospital in order to get her into hospital care. They reported that K. had disappeared from her home, where she had behaved in an unsettled and aggressive manner. Her hospitalisation lasted until 27 October 1993, that is, three months.', '37.  During the period between 18 June and 31 August 1993 K. visited her children at their respective children’s homes. During the visits she was accompanied by her personal nurse from the hospital, who was in contact with the social welfare authorities and arranged the visits having regard to K.’s state of mental health. According to the centre’s register, she visited J. twice during this period.', '38.  According to a statement made by a social worker on 4 August 1993, T. had taken good care of J., first at the hospital until 23 June 1993 and later on at the family centre. It was agreed that J. would stay at the family centre and that T. would visit her every other day. J. would visit her father for the first time from 13 to 15 August 1993, during which time T. would organise her christening. The intention was that the baby could move in with her father later on.', '39.  After T.’s paternity had been established on 13 July 1993, T. and K. were granted joint custody of J. on 4 August 1993.', '40.  T.’s travel expenses to the centre were paid for by the social welfare authorities. From the centre’s records it can be deduced that T. succeeded in creating a relationship with the baby and learned to take good care of her. The home leaves were spent with T. first at his mother’s house and later in his new home.', '41.  On 12 August 1993 the Social Welfare Board referred both public care orders to the County Administrative Court (lääninoikeus, länsrätten) for confirmation, as the applicants had opposed them. In support of its referrals, the Board submitted a statement by a social welfare official dated 25 August 1993, according to which T. would not be able to care both for M. and the new-born J. alone, since K. was living in the same home and had been psychotic for the last four years. T. had been in contact with J. at the children’s home three to four times a week. While staying in a flat attached to a municipal children’s home, he had cared for J. for two whole weeks and had subsequently cared for her three days a week in his new home. The Board had therefore begun investigating whether it would be possible to entrust him with the responsibility for J. with the help of support measures taken by the Board.', '42.  On 9 September 1993 the County Administrative Court confirmed the care order concerning J., considering that K. had been mentally ill; that the applicants had had conflicts “as a result of which T. had moved away from their home at the beginning of July 1993”; that because of K.’s illness and the family’s other problems the applicants had been unable to provide J. with adequate care; that the care support provided to the family had not sufficiently improved the family’s situation and that the measures could not be expected to satisfy J.’s care needs. No hearing was held.', '43.  On 11 November 1993 the County Administrative Court confirmed the care order concerning M., repeating the reasons put forward in its decision of 9 September concerning J. No hearing was held.', '44.  In an appeal to the Supreme Administrative Court (korkein hallinto-oikeus, högsta förvaltningsdomstolen) against the confirmation of the public care order concerning M., the applicants were represented by the Public Legal Adviser (yleinen oikeusavustaja, allmänna rättsbiträdet) of S. The Supreme Administrative Court dismissed the appeal on 23 September 1994.', '45.  On the same date the Supreme Administrative Court extended the time allowed for an appeal by K. against the confirmation of the care order made in respect of J.', '46.  On 18 October 1994 K. appealed against the care order in respect of J. as confirmed by the County Administrative Court on 9 September 1993. On 21 August 1995 the Supreme Administrative Court granted K. cost-free proceedings as from 1 March 1994, appointed Ms Suomela as her representative and upheld the County Administrative Court’s decision of 9 September 1993.', '47.  By a decision of 21 January 1994 the Social Welfare Board placed J. in a foster home in K., a town some 120 km away from the applicants’ home. M. joined her on 7 February 1994. The foster parents had no children of their own. Social welfare officials told the applicants and the foster parents that J.’s and M.’s placement would last “for years”. The applicants had proposed that the children’s public care be implemented in the homes of relatives.', '48.  In the meantime, on 15 August 1993, J. was christened in the presence of K., T. and M.', '49.  A consultation was held at the children’s home, on 18 August 1993, in the presence of T. According to the records, K.’s mental health was very unstable and her psychiatric treatment was expected to have to be continued for four to five years. T., however, had expressed his hopes that K. and he could, together, take care of J. in the future. It was agreed that J. would stay at the children’s home and would visit T. every week from Thursday until Saturday, beginning on 28 August 1993. T. would visit J. on other days, according to an arrangement to be agreed with the children’s home.', '50.  On 14 September 1993 the Social Welfare Board prolonged the access restriction until 15 December 1993.', '51.  The following notes of a social welfare official appear among those in the case records of the Social Welfare Board:\\n“14 September 1993:\\n… 2.  ... In addition, the importance of future access between J. and T. has now been questioned, since J.’s placement in [public foster care] is under preparation. It will be difficult for T. to give up J. ...”\\n“13 October 1993:', '52.  On 27 October 1993 K. was discharged from the hospital of H.', '53.  On 2 February 1994 the Social Welfare Board drew up a plan concerning the implementation of the public care. The applicants’ alternative plan was allegedly ignored. For instance, the children could not meet their maternal grandmother at her home.', '54.  After the adoption of the care plan on 2 February 1994, the applicants requested a relaxation of the access restriction. For example, T. had been permitted to see J. only once a month.', '55.  On 21 March 1994 the applicants requested, inter alia, that the Social Welfare Board should draw up a public care plan aiming at the reunification of the family.', '56.  On 3 May 1994 the social welfare authorities organised a meeting in order to revise the care plan of 2 February 1994. The applicants and their representative did not attend the meeting.', '57.  On 17 May 1994 the Social Director restricted both applicants’ access to the children to one monthly visit at the foster home, to take place under supervision and last three hours. The Social Director considered that the grounds for public care still existed. In his view, although the applicants were dissatisfied with the visits set out in the care plan, affording the children an unlimited right to see their parents would create an obstacle to their successful placement. The applicants appealed.', '58.  On 28 September 1994 the County Administrative Court held an oral hearing concerning the access restriction imposed on 17 May 1994. It took evidence from two psychiatrists, who had interviewed K. One of them, Dr T.I.-E., did not know K. personally but commented on a diagnosis concerning her mental state by indicating that K. had a tendency to react in a psychotic manner to conflict situations. Dr K.P. stated that K.’s state of health did not prevent her from caring for her children. Consequently, if her illness had been the reason for the access restriction, that reason no longer existed.', '59.  In a written expert opinion, requested by the Social Welfare Board and submitted to the County Administrative Court, Dr E.V., a child psychiatrist, expressed the opinion that the children should be permanently cared for by the foster parents and that the applicants’ visits should, for the time being, be discontinued so as to protect the children and the foster parents. According to the applicants, Dr E.V. had not met them or the children, nor had he consulted the other psychiatrists before making his proposal.', '60.  On 11 October 1994 the County Administrative Court upheld the access restriction issued on 17 May 1994. It noted that neither of the witnesses who had been heard orally had been willing to state any opinion as regards the children’s development. It reasoned, inter alia, as follows:\\n“... [By allowing] access to take place once a month and [by allowing contact through correspondence] it will be ensured that the children will retain knowledge about their biological parents. If the grounds for public care later cease to exist, a reunification of the family will thus be possible. ...”', '61.  The County Administrative Court dismissed the applicants’ request for exemption from costs, since the relevant legislation did not cover disputes concerning access restrictions. At the court’s hearing, the applicants were nevertheless assisted by Ms Suomela.', '62.  On 26 May 1994 the applicants requested that the Social Welfare Board discontinue the public care of M. and J.', '63.  On 18 September 1994 the Social Director allegedly told the applicants that any further children born to them would also be placed in public care. According to the Government, the Social Director only told them, when expressly asked, that it was possible that any further children born would be taken into public care.', '64.  In an opinion of 22 September 1994 submitted at the Social Welfare Board’s request, Dr K.P., a psychiatrist, commented on the possibility of revoking the public care orders. She concluded that K.’s mental state would not prevent her from having custody of the children. According to Dr K.P., K.’s efforts to have public care discontinued and access restrictions relaxed showed that she possessed psychological resources. She noted, inter alia, that T. was K.’s closest support in the care and upbringing of the children. In addition, K.’s mother, at the time her guardian ad litem, was ready to help in caring for them. Dr K.P., however, added that she could not, as a psychiatrist for adults, take any stand as regards the interests of the children. Dr K.P.’s opinion was also based on a report submitted by Dr K.Po., a psychologist, who had come to the same conclusion as regards K.’s ability to have custody of her children.', '65.  The Public Legal Adviser advised against requesting revocation of the care orders.', '66.  K. was hospitalised from 15 to 24 February and from 11 April to 29 May 1995, apparently on account of psychosis.', '67.  On 14 March 1995 the Social Welfare Board rejected the applicants’ request of 26 May 1994 that the care order be revoked, stating as follows:\\n“At the moment the health of the children’s mother, K., is better and the family situation has changed in other respects in comparison with the situation in 1993 when the decisions to take the children into care were made.\\n...\\nAccording to Dr K.P., a psychiatrist, K. still has ‘a lot of instability’ in her emotional life as well as fragility, brought about by the last five years’ experiences and the diagnosis of mental illness for which she needs – and will need for a long time to come – therapeutic support and treatment. A regular medication is also needed in order to guarantee her continued well-being and to make it possible for her to manage in open care and to have custody of her children. Dr K.P., however, did not give her more precise opinion as to K.’s ability to take care of and bring up her children even though Dr K.P. was explicitly asked to give such an opinion.', '68.  The applicants appealed on 5 April 1995, requesting that they be granted exemption from costs and afforded free legal representation. They also requested an oral hearing.', '69.  On 7 April 1995 a further child, R., was born to the applicants. Having given birth, K. left the hospital for a while on the same evening with the new-born baby wrapped in a blanket, walking barefoot in the cold weather until the hospital staff realised what had happened and intervened.', '70.  On 13 April 1995 K. was committed to compulsory psychiatric care and treated at the hospital of H. until 29 May 1995, while R. was being cared for by T. According to a psychiatrist’s observation of 10 April 1995, K. “must have been suffering from paranoid schizophrenia for some time”.', '71.  On 15 June 1995 the County Administrative Court granted the applicants exemption from costs and appointed Ms Suomela as their representative in the case concerning their appeal against the Social Welfare Board’s decision of 14 March 1995. It decided not to hold a hearing in respect of the applicants’ request for a revocation of the care orders and provided the parties with an opportunity to supplement their written observations.', '72.  On 28 September 1995 the County Administrative Court rejected the applicants’ appeals of 5 April 1995 without holding an oral hearing. The court noted, inter alia, that according to the medical certificates, K.’s state of health had improved but her emotional life was still unstable. She therefore continued to be in need of psychotherapy and medication. In addition, a further child had been born to the applicants and K. had again been treated at the hospital of H. These two factors had caused an additional strain militating against a revocation of the care orders.', '73.  On 17 November 1994 social welfare officials revised the public care plan, proposing that the children meet the applicants once a month on neutral premises at the Family Advice Centre of K., where the foster parents were living. The applicants objected to this proposal, considering that it would have entailed a further restriction of their access to the children. Instead, they requested two meetings a month, one of which was to be at their place of residence. On 22 December 1994 they asked for a separate written decision concerning their access request, so that they could appeal against it.', '74.  In a letter of 22 December 1994 the Social Director informed the applicants that there were no longer any grounds for the access restriction. Meetings between the applicants and the children were nevertheless only authorised for three hours once a month on premises chosen by the Social Welfare Board. They were also informed that the meetings would be supervised.', '75.  In his decision of 11 January 1995 the Social Director confirmed that there were no longer any grounds for the access restriction. On 31 January and 28 February 1995 the Social Welfare Board confirmed the decision of 11 January 1995. The applicants appealed.', '76.  As regards the applicants’ appeal against the Social Welfare Board’s decisions of 31 January and 28 February 1995, the County Administrative Court considered, on 15 June 1995, that the revised care plan drawn up on 17 November 1994 had already entailed an access restriction which had later been renewed by further decisions, without the applicants having been properly heard, in respect of their access request. The matter was referred back to the Social Welfare Board for further consideration.', '77.  In the light of the County Administrative Court’s decision the Acting Social Director, on 28 June 1995, formally restricted the applicants’ access to the children to one meeting a month up to 31 May 1996. The meetings were to take place in the foster home. In addition, the foster parents were to visit the applicants with the children every six months. The Director considered, inter alia, that it was important that the children settle themselves in the foster family environment in which they would grow up. Closer contacts with their parents would mean change and insecurity as well as the creation of a new crisis in their development. The process of settling which had started well would be jeopardised. For the children’s progress it was therefore necessary that their situation remain stable and secure. The Director’s decision was confirmed by the Social Welfare Board on 22 August 1995. The applicants appealed.', '78.  On 3 November 1995 the County Administrative Court rejected the applicants’ appeal against the access restriction confirmed on 22 August 1995.', '79.  On 25 May 1996 social welfare officials revised the public care plan, proposing that the children meet the applicants once a month on the premises of a school at the children’s place of residence. As the applicants were not present when the proposal was made, the care plan was again revised on 9 October 1996 in so far as the access restriction was concerned. The applicants then proposed that the children meet them without supervision once a month. The public care plan was, however, revised as proposed by the social welfare officials.', '80.  On 17 June 1996 the Social Director restricted both applicants’ access to the children, until 30 November 1997, to one monthly visit on the premises of a school at the children’s place of residence, where access was to take place under supervision for three hours. One of the foster parents was also ordered to be present at the time of the access. The Social Director’s decision was confirmed by the Social Welfare Board on 20 August 1996. The applicants’ appealed against the decision to the County Administrative Court, requesting an oral hearing. The court obtained a statement from a child psychiatrist, Dr J.P., who was also recommended by the applicants’ representative to the Social Welfare Board. Dr J.P.’s statement included the following observations:\\n“The right of access of M. and J. to the persons close to them must primarily be examined in the light of their psychological growth and development and their health. This requires an examination of the quality, permanence and durability of their human relationships, because psychological growth and development take place in interaction with human relationships. In my opinion, the human relationships are to be examined from the children’s point of view. ...\\n... In conclusion, I note that before M. was placed in the children’s home ... the mother had been in psychiatric hospital for treatment eight times, making a total of thirteen months. Thus, M. had lived with his mother for forty-five months, namely, three years and nine months. The longest that they spent together was two years and one month. ... T. has, as ‘stepfather’, helped to look after M. for at most ten months. ... the foster parents have so far looked after M. for three years and three months without interruption. ... In practice, M. has not had any kind of relationship with his biological father ... \\nIn the light of the above, I note that the human relationships in M.’s early childhood have, owing to the circumstances, been non-continuous, short-term and changing. The most stable and continuous relationships have been with his foster parents ... Therefore, these relationships are the most relevant and important ones for M.’s psychological growth and development.\\n... J. was born in June 1993. She was taken into public care immediately after she was born. At first, she stayed in the district hospital for a short time, and later at a reception home for small children. T., as the biological father of J., looked after her for two weeks in June and August 1993. J. was placed in the foster family ... in January 1994, when she was some seven months old. So far, J. has stayed with her foster family for some three years and three months without interruption. J. is now a little over 3 years and 10 months old.\\nIn the light of the above, I note that, due to the circumstances, J. has not had any significant and important relationships other than those with her foster parents. J.’s relationship with her foster parents is of primary importance for her psychological growth and development. ...\\n... From the children’s point of view, especially, but naturally also from that of the foster parents, the foster family is a family to which the principles concerning family life enshrined in the United Nations Convention on the Rights of the Child and in the European Convention on Human Rights can be applied in the same way as to biological families. This point of view is especially important when, due to the circumstances, the biological family has not lived together.\\nIn the light of the above, I note that the arrangements for helping and supporting the foster parents of M. and J. are in the best interests of the children. The arrangement will, in the first place, ensure the important, continuous and safe human relationships of M. and J. with their foster parents ...\\nIt is also important for M. and J.’s psychological growth and development that, in the safe and stable conditions provided by the foster family, they are able to form and maintain a good internalised picture of their biological parents ... from whom they have been separated because of the circumstances.\\nIn my opinion, this can be done by complying with the decision of the Social Welfare Board of S. of 20 August 1996 concerning the right of access. At present, an unrestricted right of access or a right of access of the extent suggested by the applicants is not in the interests of the children, because K. and T. are not capable of meeting the emotional needs of M. and J. ... Such arrangements concerning the right of access would clearly endanger the health and development of M. and J. In my opinion, the question of an unrestricted right of access should be evaluated when the children have attained the age of 12.”', '81.  In a statement of 10 September 1996 Dr K.P. stated that in her opinion K.’s psychiatric state did not preclude K.’s having custody of her daughter R.', '82.  On 2 April 1997 the care plan was again revised by the social welfare authorities. The applicants had been informed of the time of the meeting concerning the revision of this care plan on home visits on 15 January and 10 March 1997. Their representative had also been informed of the meeting by a letter sent on 10 February 1997. The applicants did not attend the meeting, and neither did their representative. The applicants were thus not explicitly heard in this connection but, as they had expressed their opinion on other occasions, the authorities recorded their point of view in the plan.', '83.  On 12 June 1997 the County Administrative Court rejected the applicants’ appeal against the Social Welfare Board’s decision of 20 August 1996 to restrict the applicants’ access right (see paragraph 80 above). It refused the applicants’ request for an oral hearing.', '84.  Although the applicants had stated only in their reply that the appeal was also made on R.’s behalf, the County Administrative Court found in its decision that it was in part made in her name. The court stated that a person to whom a decision was directed, or upon whose right, duty or interest it had a direct effect, had the right of appeal. The court considered that the Board’s decision, which concerned R.’s siblings’ and parents’ right of access, was not such a decision.', '85.  On 28 November 1997 the Social Director restricted the applicants’, and consequently their youngest child R.’s, access to J. and M. to one monthly visit of three hours on the premises of a school at the children’s place of residence until the end of 1998. The applicants did not appeal.', '86.  The care plan was again revised on 1 December 1998.', '87.  According to a statement made on 3 July 1998 by Dr K.M. (formerly Dr K.P.), K. had not been hospitalised since May 1995 and her health had been stable since the beginning of 1995. There had been no problems concerning the care of R. (who had lived with her parents all the time and had not been taken into care). It was recommended by Dr K.M. that the social welfare authorities should reduce or discontinue control visits to the applicants’ home in order to give K. the possibility of settling down to normal life without constant supervision by the authorities.', '88.  The restriction orders were extended by the Social Director on 11 December 1998, until the end of 2000. The visits were to take place under supervision on the premises of a school at the children’s place of residence. However, one of the visits was to take place at the applicants’ home in the presence of the foster parents. The Social Director considered, inter alia, that the reunification of the family was not in sight as the foster family was now the children’s de facto home; that the applicants’ access to the children once a month and through correspondence was enough to maintain the children’s awareness of their biological parents; and that closer contacts with the applicants would endanger the children’s development, bring change and insecurity and create a new crisis in their development. The applicants appealed against this decision to the Social Welfare Board which, on 2 February 1999, rejected the appeal and upheld the Social Director’s decisions. In its reasoning, the Board quoted both the County Administrative Court and Dr J.P.', '89.  According to the reports drawn up by the supervisor who attended the meetings of the children and the applicants during the period from 25 May 1996 to 10 January 1999, the adults got on quite well together during the meetings. J. often played games with M. When R. was smaller, J. played by herself, but later it seemed that the girls, J. and R., spent more time together. On the other hand, it seemed that the first applicant made very little contact with J. and M. According to the supervisor’s description, especially in the earlier reports, the first applicant seemed to have concentrated on R.', '90.  M. visited K. and T. at their home for the weekend of 21 to 23 July 2000 without supervision.', '91.  The applicants appealed against the Social Welfare Board’s decision of 2 February 1999, concerning the right of access, to the Administrative Court (formerly the County Administrative Court). An oral hearing, at which M. was also heard, was held on 3 October 2000. In its decision of 13 October 2000 the administrative court upheld the Social Welfare Board’s decision.', '92.  The social authorities reviewed the care plan on 23 November 2000, having consulted the applicants, among others. It was decided that the children would remain in the foster home. According to the care plan, M. and J. are allowed to meet K. and T and others close to them, as from 1 January 2001 until 31 December 2001, without supervision once a month alternately at the applicants’ home and the foster parents’ home. The meetings at the applicants’ home will take place from Saturday 11 a.m. until Sunday 4 p.m., and the meetings at the foster parents’ home on Sundays, from 11 a.m. until 5 p.m. The children are also allowed to meet their other relatives freely during those meetings. In addition to the above, the children will also spend a day and a night with the applicants each Christmas, and two weeks each summer during their school holidays.', '93.  J. and M.’s foster mother died in May 2001.'], 'labels': [4]}\n",
            "                                                text labels\n",
            "0  [11.  At the beginning of the events relevant ...    [4]\n",
            "1  [9.  The applicant is the monarch of Liechtens...     []\n",
            "2  [9.  In June 1949 plots of agricultural land o...    [3]\n",
            "3  [8.  In 1991 Mr Dušan Slobodník, a research wo...    [6]\n",
            "4  [9.  The applicant is an Italian citizen, born...     []\n"
          ]
        }
      ]
    },
    {
      "cell_type": "code",
      "source": [
        "print(lexglue_train.columns)"
      ],
      "metadata": {
        "colab": {
          "base_uri": "https://localhost:8080/"
        },
        "id": "1Gilpw5cBudf",
        "outputId": "4c5c62d9-e579-4fb9-9849-9112b04c13ad"
      },
      "execution_count": 16,
      "outputs": [
        {
          "output_type": "stream",
          "name": "stdout",
          "text": [
            "Index(['text', 'labels'], dtype='object')\n"
          ]
        }
      ]
    }
  ]
}